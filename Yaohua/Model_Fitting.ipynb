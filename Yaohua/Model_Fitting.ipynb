{
  "cells": [
    {
      "cell_type": "code",
      "source": [
        "import numpy as np \n",
        "import pandas as pd \n",
        "\n",
        "from sklearn.model_selection import train_test_split, KFold, cross_val_score, RepeatedKFold,GridSearchCV\n",
        "from sklearn.pipeline import make_pipeline\n",
        "\n",
        "from sklearn.linear_model import Ridge\n",
        "from sklearn.linear_model import ElasticNet\n",
        "from sklearn.ensemble import RandomForestRegressor\n",
        "\n",
        "from sklearn.metrics import mean_absolute_error\n",
        "\nimport matplotlib.pyplot as plt"
      ],
      "outputs": [],
      "execution_count": 1,
      "metadata": {}
    },
    {
      "cell_type": "code",
      "source": [
        "# The data includes all features\n",
        "df = pd.read_csv(\"../clean_data.csv\", index_col=0)"
      ],
      "outputs": [],
      "execution_count": 2,
      "metadata": {}
    },
    {
      "cell_type": "code",
      "source": [
        "df.head()"
      ],
      "outputs": [
        {
          "output_type": "execute_result",
          "execution_count": 3,
          "data": {
            "text/plain": [
              "    MSSubClass  LotFrontage  LotArea  OverallQual  OverallCond  YearBuilt  \\\n",
              "Id                                                                          \n",
              "1           60         65.0     8450            7            5       2003   \n",
              "2           20         80.0     9600            6            8       1976   \n",
              "3           60         68.0    11250            7            5       2001   \n",
              "4           70         60.0     9550            7            5       1915   \n",
              "5           60         84.0    14260            8            5       2000   \n",
              "\n",
              "    YearRemodAdd  ExterQual  ExterCond  BsmtQual          ...            \\\n",
              "Id                                                        ...             \n",
              "1           2003          3          2         4          ...             \n",
              "2           1976          2          2         4          ...             \n",
              "3           2002          3          2         4          ...             \n",
              "4           1970          2          2         3          ...             \n",
              "5           2000          3          2         4          ...             \n",
              "\n",
              "    SaleType_ConLI  SaleType_ConLw  SaleType_New  SaleType_Oth  SaleType_WD  \\\n",
              "Id                                                                            \n",
              "1                0               0             0             0            1   \n",
              "2                0               0             0             0            1   \n",
              "3                0               0             0             0            1   \n",
              "4                0               0             0             0            1   \n",
              "5                0               0             0             0            1   \n",
              "\n",
              "    SaleCondition_AdjLand  SaleCondition_Alloca  SaleCondition_Family  \\\n",
              "Id                                                                      \n",
              "1                       0                     0                     0   \n",
              "2                       0                     0                     0   \n",
              "3                       0                     0                     0   \n",
              "4                       0                     0                     0   \n",
              "5                       0                     0                     0   \n",
              "\n",
              "    SaleCondition_Normal  SaleCondition_Partial  \n",
              "Id                                               \n",
              "1                      1                      0  \n",
              "2                      1                      0  \n",
              "3                      1                      0  \n",
              "4                      0                      0  \n",
              "5                      1                      0  \n",
              "\n[5 rows x 533 columns]"
            ],
            "text/html": [
              "<div>\n",
              "<style scoped>\n",
              "    .dataframe tbody tr th:only-of-type {\n",
              "        vertical-align: middle;\n",
              "    }\n",
              "\n",
              "    .dataframe tbody tr th {\n",
              "        vertical-align: top;\n",
              "    }\n",
              "\n",
              "    .dataframe thead th {\n",
              "        text-align: right;\n",
              "    }\n",
              "</style>\n",
              "<table border=\"1\" class=\"dataframe\">\n",
              "  <thead>\n",
              "    <tr style=\"text-align: right;\">\n",
              "      <th></th>\n",
              "      <th>MSSubClass</th>\n",
              "      <th>LotFrontage</th>\n",
              "      <th>LotArea</th>\n",
              "      <th>OverallQual</th>\n",
              "      <th>OverallCond</th>\n",
              "      <th>YearBuilt</th>\n",
              "      <th>YearRemodAdd</th>\n",
              "      <th>ExterQual</th>\n",
              "      <th>ExterCond</th>\n",
              "      <th>BsmtQual</th>\n",
              "      <th>...</th>\n",
              "      <th>SaleType_ConLI</th>\n",
              "      <th>SaleType_ConLw</th>\n",
              "      <th>SaleType_New</th>\n",
              "      <th>SaleType_Oth</th>\n",
              "      <th>SaleType_WD</th>\n",
              "      <th>SaleCondition_AdjLand</th>\n",
              "      <th>SaleCondition_Alloca</th>\n",
              "      <th>SaleCondition_Family</th>\n",
              "      <th>SaleCondition_Normal</th>\n",
              "      <th>SaleCondition_Partial</th>\n",
              "    </tr>\n",
              "    <tr>\n",
              "      <th>Id</th>\n",
              "      <th></th>\n",
              "      <th></th>\n",
              "      <th></th>\n",
              "      <th></th>\n",
              "      <th></th>\n",
              "      <th></th>\n",
              "      <th></th>\n",
              "      <th></th>\n",
              "      <th></th>\n",
              "      <th></th>\n",
              "      <th></th>\n",
              "      <th></th>\n",
              "      <th></th>\n",
              "      <th></th>\n",
              "      <th></th>\n",
              "      <th></th>\n",
              "      <th></th>\n",
              "      <th></th>\n",
              "      <th></th>\n",
              "      <th></th>\n",
              "      <th></th>\n",
              "    </tr>\n",
              "  </thead>\n",
              "  <tbody>\n",
              "    <tr>\n",
              "      <th>1</th>\n",
              "      <td>60</td>\n",
              "      <td>65.0</td>\n",
              "      <td>8450</td>\n",
              "      <td>7</td>\n",
              "      <td>5</td>\n",
              "      <td>2003</td>\n",
              "      <td>2003</td>\n",
              "      <td>3</td>\n",
              "      <td>2</td>\n",
              "      <td>4</td>\n",
              "      <td>...</td>\n",
              "      <td>0</td>\n",
              "      <td>0</td>\n",
              "      <td>0</td>\n",
              "      <td>0</td>\n",
              "      <td>1</td>\n",
              "      <td>0</td>\n",
              "      <td>0</td>\n",
              "      <td>0</td>\n",
              "      <td>1</td>\n",
              "      <td>0</td>\n",
              "    </tr>\n",
              "    <tr>\n",
              "      <th>2</th>\n",
              "      <td>20</td>\n",
              "      <td>80.0</td>\n",
              "      <td>9600</td>\n",
              "      <td>6</td>\n",
              "      <td>8</td>\n",
              "      <td>1976</td>\n",
              "      <td>1976</td>\n",
              "      <td>2</td>\n",
              "      <td>2</td>\n",
              "      <td>4</td>\n",
              "      <td>...</td>\n",
              "      <td>0</td>\n",
              "      <td>0</td>\n",
              "      <td>0</td>\n",
              "      <td>0</td>\n",
              "      <td>1</td>\n",
              "      <td>0</td>\n",
              "      <td>0</td>\n",
              "      <td>0</td>\n",
              "      <td>1</td>\n",
              "      <td>0</td>\n",
              "    </tr>\n",
              "    <tr>\n",
              "      <th>3</th>\n",
              "      <td>60</td>\n",
              "      <td>68.0</td>\n",
              "      <td>11250</td>\n",
              "      <td>7</td>\n",
              "      <td>5</td>\n",
              "      <td>2001</td>\n",
              "      <td>2002</td>\n",
              "      <td>3</td>\n",
              "      <td>2</td>\n",
              "      <td>4</td>\n",
              "      <td>...</td>\n",
              "      <td>0</td>\n",
              "      <td>0</td>\n",
              "      <td>0</td>\n",
              "      <td>0</td>\n",
              "      <td>1</td>\n",
              "      <td>0</td>\n",
              "      <td>0</td>\n",
              "      <td>0</td>\n",
              "      <td>1</td>\n",
              "      <td>0</td>\n",
              "    </tr>\n",
              "    <tr>\n",
              "      <th>4</th>\n",
              "      <td>70</td>\n",
              "      <td>60.0</td>\n",
              "      <td>9550</td>\n",
              "      <td>7</td>\n",
              "      <td>5</td>\n",
              "      <td>1915</td>\n",
              "      <td>1970</td>\n",
              "      <td>2</td>\n",
              "      <td>2</td>\n",
              "      <td>3</td>\n",
              "      <td>...</td>\n",
              "      <td>0</td>\n",
              "      <td>0</td>\n",
              "      <td>0</td>\n",
              "      <td>0</td>\n",
              "      <td>1</td>\n",
              "      <td>0</td>\n",
              "      <td>0</td>\n",
              "      <td>0</td>\n",
              "      <td>0</td>\n",
              "      <td>0</td>\n",
              "    </tr>\n",
              "    <tr>\n",
              "      <th>5</th>\n",
              "      <td>60</td>\n",
              "      <td>84.0</td>\n",
              "      <td>14260</td>\n",
              "      <td>8</td>\n",
              "      <td>5</td>\n",
              "      <td>2000</td>\n",
              "      <td>2000</td>\n",
              "      <td>3</td>\n",
              "      <td>2</td>\n",
              "      <td>4</td>\n",
              "      <td>...</td>\n",
              "      <td>0</td>\n",
              "      <td>0</td>\n",
              "      <td>0</td>\n",
              "      <td>0</td>\n",
              "      <td>1</td>\n",
              "      <td>0</td>\n",
              "      <td>0</td>\n",
              "      <td>0</td>\n",
              "      <td>1</td>\n",
              "      <td>0</td>\n",
              "    </tr>\n",
              "  </tbody>\n",
              "</table>\n",
              "<p>5 rows × 533 columns</p>\n",
              "</div>"
            ]
          },
          "metadata": {}
        }
      ],
      "execution_count": 3,
      "metadata": {}
    },
    {
      "cell_type": "markdown",
      "source": [
        "## Identify and Remove Outliers"
      ],
      "metadata": {}
    },
    {
      "cell_type": "code",
      "source": [
        "# function to detect outliers based on the predictions of a model\n",
        "def find_outliers(model, df, sigma=3):\n",
        "\n",
        "    X = df.drop(\"SalePrice\", axis=1)\n",
        "    y = np.log(df['SalePrice'])\n",
        "\n",
        "    model.fit(X,y)\n",
        "    y_pred = pd.Series(model.predict(X), index=y.index)\n",
        "        \n",
        "    # calculate residuals between the model prediction and true y values\n",
        "    resid = y - y_pred\n",
        "    mean_resid = resid.mean()\n",
        "    std_resid = resid.std()\n",
        "\n",
        "    # calculate z statistic, define outliers to be where |z|>sigma\n",
        "    z = (resid - mean_resid)/std_resid    \n",
        "    outliers = z[abs(z)>sigma].index\n",
        "    \n",
        "    print('R2=',model.score(X,y))\n",
        "    print('rmse=',mean_absolute_error(y, y_pred))\n",
        "    print('---------------------------------------')\n",
        "\n",
        "    print('mean of residuals:',mean_resid)\n",
        "    print('std of residuals:',std_resid)\n",
        "    print('---------------------------------------')\n",
        "\n",
        "    print(len(outliers),'outliers:')\n",
        "    print(outliers.tolist())\n",
        "\n",
        "    plt.plot(y,y_pred,'.')\n",
        "    plt.plot(y.loc[outliers],y_pred.loc[outliers],'ro')\n",
        "    plt.legend(['Accepted','Outlier'])\n",
        "    plt.xlabel('y')\n",
        "    plt.ylabel('y_pred');\n",
        "    \n",
        "    return outliers"
      ],
      "outputs": [],
      "execution_count": 13,
      "metadata": {
        "collapsed": false,
        "outputHidden": false,
        "inputHidden": false
      }
    },
    {
      "cell_type": "code",
      "source": [
        "# find and remove outliers using a Ridge model\n",
        "outliers = find_outliers(Ridge(), df)\n",
        "\n",
        "# permanently remove these outliers from the data\n",
        "df_model = df.drop(outliers)"
      ],
      "outputs": [
        {
          "output_type": "stream",
          "name": "stdout",
          "text": [
            "R2= 0.9457976002390555\n",
            "rmse= 0.06523816293351563\n",
            "---------------------------------------\n",
            "mean of residuals: -1.5645089366890485e-15\n",
            "std of residuals: 0.09302990503748261\n",
            "---------------------------------------\n",
            "19 outliers:\n",
            "[31, 89, 411, 463, 496, 524, 534, 633, 682, 689, 711, 875, 917, 969, 971, 1299, 1325, 1433, 1454]\n"
          ]
        },
        {
          "output_type": "display_data",
          "data": {
            "text/plain": [
              "<Figure size 432x288 with 1 Axes>"
            ],
            "image/png": "[encoded data removed]"
          },
          "metadata": {
            "needs_background": "light"
          }
        }
      ],
      "execution_count": 14,
      "metadata": {
        "collapsed": false,
        "outputHidden": false,
        "inputHidden": false
      }
    },
    {
      "cell_type": "code",
      "source": [
        "X = df_model.drop(\"SalePrice\", axis=1)\n",
        "y = np.log(df_model['SalePrice'])\n",
        "\n",
        "model = Ridge()\n",
        "model.fit(X,y)\n",
        "y_pred = pd.Series(model.predict(X), index=y.index)\n",
        "\n",
        "print('Correlation:', np.corrcoef(y,y_pred)[0][1])\n",
        "print('R2=',model.score(X,y))\n",
        "print('rmse=',mean_absolute_error(y, y_pred))"
      ],
      "outputs": [
        {
          "output_type": "stream",
          "name": "stdout",
          "text": [
            "Correlation: 0.9814716471008289\n",
            "R2= 0.9632687458251801\n",
            "rmse= 0.055460424577453954\n"
          ]
        }
      ],
      "execution_count": 16,
      "metadata": {
        "collapsed": false,
        "outputHidden": false,
        "inputHidden": false
      }
    },
    {
      "cell_type": "markdown",
      "source": [
        "## Fit and Optimise Models\n",
        "\n",
        "Linear Regression:\n",
        "\n",
        "* sklearn.linear_model.Ridge\n",
        "* sklearn.linear_model.Lasso\n",
        "* sklearn.linear_model.ElasticNet\n",
        "\n",
        "Support Vector Machines:\n",
        "\n",
        "* sklearn.svm.LinearSVR\n",
        "* sklearn.svm.SVR\n",
        "\n",
        "Nearest Neighbours:\n",
        "\n",
        "* sklearn.neighbors.KNearestNeighborsRegressor\n",
        "\n",
        "Tree Based:\n",
        "\n",
        "* sklearn.ensemble.RandomForestRegressor\n",
        "* sklearn.ensemble.GradientBoostingRegressor\n",
        "* xgboost.XGBRegressor"
      ],
      "metadata": {}
    },
    {
      "cell_type": "code",
      "source": [
        "def train_model(model, param_grid=[], X=[], y=[], splits=5, repeats=5):\n",
        "   \n",
        "    rkfold = RepeatedKFold(n_splits=splits, n_repeats=repeats)\n",
        "    \n",
        "    # perform a grid search if param_grid given\n",
        "    if len(param_grid)>0:\n",
        "        gsearch = GridSearchCV(model, param_grid, cv=rkfold,\n",
        "                               scoring='neg_mean_absolute_error', n_jobs = 8,\n",
        "                               verbose=1, return_train_score=True)\n",
        "        gsearch.fit(X,y)\n",
        "\n",
        "        model = gsearch.best_estimator_        \n",
        "        best_idx = gsearch.best_index_\n",
        "\n",
        "        grid_results = pd.DataFrame(gsearch.cv_results_)       \n",
        "        cv_mean = abs(grid_results.loc[best_idx,'mean_test_score'])\n",
        "        cv_std = grid_results.loc[best_idx,'std_test_score']\n",
        "\n",
        "    # no grid search, just cross-val score for given model    \n",
        "    else:\n",
        "        grid_results = []\n",
        "        cv_results = cross_val_score(model, X, y, scoring='neg_mean_absolute_error', cv=rkfold)\n",
        "        cv_mean = abs(np.mean(cv_results))\n",
        "        cv_std = np.std(cv_results)\n",
        "\n",
        "    y_pred = model.predict(X)\n",
        "    \n",
        "    # print stats on model performance         \n",
        "    print('----------------------')\n",
        "    print(model)\n",
        "    print('----------------------')\n",
        "    print('Correlation:', np.corrcoef(y,y_pred)[0][1])\n",
        "    print('R2=',model.score(X,y))\n",
        "    print('rmse=',mean_absolute_error(y, y_pred))\n",
        "    print('cross_val: mean=',cv_mean,', std=',cv_std)\n",
        "    \n",
        "    \n",
        "    \n",
        "    return model, grid_results"
      ],
      "outputs": [],
      "execution_count": 9,
      "metadata": {}
    },
    {
      "cell_type": "markdown",
      "source": [
        "## ElasticNet"
      ],
      "metadata": {}
    },
    {
      "cell_type": "code",
      "source": [
        "en_int = ElasticNet()\n",
        "\n",
        "param_grid = {'alpha': np.arange(1e-4,1e-3,1e-4),\n",
        "              'l1_ratio': np.arange(0.1,1.0,0.1),\n",
        "              'max_iter':[100000]}\n",
        "\n",
        "# param_grid = {'l1_ratio': np.arange(0.1,1.0,0.1),\n",
        "#               'max_iter':[100000]}\n",
        "\nen_int, grid_results = train_model(en_int, X=X, y=y, param_grid=param_grid, splits=5, repeats=1)"
      ],
      "outputs": [
        {
          "output_type": "stream",
          "name": "stdout",
          "text": [
            "Fitting 5 folds for each of 81 candidates, totalling 405 fits\n",
            "----------------------\n",
            "ElasticNet(alpha=0.0004, copy_X=True, fit_intercept=True, l1_ratio=0.9,\n",
            "      max_iter=100000, normalize=False, positive=False, precompute=False,\n",
            "      random_state=None, selection='cyclic', tol=0.0001, warm_start=False)\n",
            "----------------------\n",
            "Correlation: 0.9736281907947597\n",
            "R2= 0.9479347232669106\n",
            "rmse= 0.0669953327081602\n",
            "cross_val: mean= 0.07380454712979753 , std= 0.0031932122104661904\n"
          ]
        },
        {
          "output_type": "stream",
          "name": "stderr",
          "text": [
            "[Parallel(n_jobs=8)]: Using backend LokyBackend with 8 concurrent workers.\n",
            "[Parallel(n_jobs=8)]: Done  34 tasks      | elapsed:    6.5s\n",
            "[Parallel(n_jobs=8)]: Done 184 tasks      | elapsed:   16.6s\n",
            "[Parallel(n_jobs=8)]: Done 405 out of 405 | elapsed:   23.3s finished\n"
          ]
        }
      ],
      "execution_count": 18,
      "metadata": {}
    },
    {
      "cell_type": "markdown",
      "source": [
        "## Random Forest Regression"
      ],
      "metadata": {}
    },
    {
      "cell_type": "code",
      "source": [
        "rfr = RandomForestRegressor()\n",
        "\n",
        "param_grid = {'n_estimators':[100,150,200],\n",
        "              'max_features':[25,50,75],\n",
        "              'min_samples_split':[2,4,6]}\n",
        "\n",
        "rfr, grid_results = train_model(rfr, X=X, y=y,param_grid=param_grid, \n",
        "                                              splits=5, repeats=1)"
      ],
      "outputs": [
        {
          "output_type": "stream",
          "name": "stdout",
          "text": [
            "Fitting 5 folds for each of 27 candidates, totalling 135 fits\n",
            "----------------------\n",
            "RandomForestRegressor(bootstrap=True, criterion='mse', max_depth=None,\n",
            "           max_features=75, max_leaf_nodes=None, min_impurity_decrease=0.0,\n",
            "           min_impurity_split=None, min_samples_leaf=1,\n",
            "           min_samples_split=2, min_weight_fraction_leaf=0.0,\n",
            "           n_estimators=150, n_jobs=None, oob_score=False,\n",
            "           random_state=None, verbose=0, warm_start=False)\n",
            "----------------------\n",
            "Correlation: 0.9949262251431482\n",
            "R2= 0.9870952256382878\n",
            "rmse= 0.031135445053697107\n",
            "cross_val: mean= 0.08481487732403423 , std= 0.0028683554643976787\n"
          ]
        },
        {
          "output_type": "stream",
          "name": "stderr",
          "text": [
            "[Parallel(n_jobs=8)]: Using backend LokyBackend with 8 concurrent workers.\n",
            "[Parallel(n_jobs=8)]: Done  34 tasks      | elapsed:    5.5s\n",
            "[Parallel(n_jobs=8)]: Done 135 out of 135 | elapsed:   20.1s finished\n"
          ]
        }
      ],
      "execution_count": 17,
      "metadata": {}
    },
    {
      "cell_type": "code",
      "source": [],
      "outputs": [],
      "execution_count": null,
      "metadata": {
        "collapsed": false,
        "outputHidden": false,
        "inputHidden": false
      }
    }
  ],
  "metadata": {
    "kernelspec": {
      "name": "python3",
      "language": "python",
      "display_name": "Python 3"
    },
    "language_info": {
      "name": "python",
      "version": "3.7.2",
      "mimetype": "text/x-python",
      "codemirror_mode": {
        "name": "ipython",
        "version": 3
      },
      "pygments_lexer": "ipython3",
      "nbconvert_exporter": "python",
      "file_extension": ".py"
    },
    "kernel_info": {
      "name": "python3"
    },
    "nteract": {
      "version": "0.12.3"
    }
  },
  "nbformat": 4,
  "nbformat_minor": 2
}