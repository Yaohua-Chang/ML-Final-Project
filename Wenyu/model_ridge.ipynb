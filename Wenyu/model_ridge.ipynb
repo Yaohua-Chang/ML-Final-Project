{
 "cells": [
  {
   "cell_type": "code",
   "execution_count": 1,
   "metadata": {},
   "outputs": [],
   "source": [
    "import numpy as np\n",
    "import pandas as pd\n",
    "from matplotlib import pyplot as plt\n",
    "import seaborn as sns\n",
    "\n",
    "%matplotlib inline"
   ]
  },
  {
   "cell_type": "code",
   "execution_count": 2,
   "metadata": {},
   "outputs": [],
   "source": [
    "clean_data = pd.read_csv('clean_data.csv')\n",
    "y=clean_data['SalePrice']\n",
    "clean_data=clean_data.drop(['SalePrice'],axis=1) #drop the y in clean_data\n",
    "X = clean_data.iloc[:,1:] # drop the id column\n"
   ]
  },
  {
   "cell_type": "code",
   "execution_count": 59,
   "metadata": {},
   "outputs": [],
   "source": [
    "import warnings\n",
    "warnings.filterwarnings('ignore')"
   ]
  },
  {
   "cell_type": "code",
   "execution_count": 60,
   "metadata": {
    "scrolled": true
   },
   "outputs": [],
   "source": [
    "from sklearn.model_selection import train_test_split\n",
    "from sklearn.linear_model import Ridge\n",
    "X_train, X_test, y_train, y_test = train_test_split(X, y, test_size=0.3, random_state=42)\n",
    "# scaling\n",
    "from sklearn.preprocessing import StandardScaler\n",
    "scaler = StandardScaler()\n",
    "X_train_sc = scaler.fit_transform(X_train)\n",
    "X_test_sc = scaler.transform(X_test)"
   ]
  },
  {
   "cell_type": "code",
   "execution_count": 61,
   "metadata": {},
   "outputs": [
    {
     "data": {
      "text/plain": [
       "32846.437585314496"
      ]
     },
     "execution_count": 61,
     "metadata": {},
     "output_type": "execute_result"
    }
   ],
   "source": [
    "rg = Ridge()\n",
    "rg.fit(X_train_sc,y_train)\n",
    "y_test_pred = rg.predict(X_test_sc)\n",
    "y_train_pred = rg.predict(X_train_sc)\n",
    "from sklearn.metrics import mean_squared_error\n",
    "from math import sqrt\n",
    "mse = mean_squared_error(y_test, y_test_pred)\n",
    "sqrt(mse) #ridge's score is not so good"
   ]
  },
  {
   "cell_type": "code",
   "execution_count": 62,
   "metadata": {},
   "outputs": [],
   "source": [
    "#use gridsearch on ridge\n",
    "from sklearn.model_selection import GridSearchCV\n",
    "parameters = { 'alpha':[0.1,1, 10,100,1000,10000]}\n",
    "rg = Ridge(random_state=42)\n",
    "clf = GridSearchCV(rg, parameters, cv=5)\n",
    "clf.fit(X_train_sc,y_train)\n",
    "y_test_pred = clf.predict(X_test_sc)\n",
    "y_train_pred = clf.predict(X_train_sc)"
   ]
  },
  {
   "cell_type": "code",
   "execution_count": 63,
   "metadata": {},
   "outputs": [
    {
     "data": {
      "text/plain": [
       "30723.944334034182"
      ]
     },
     "execution_count": 63,
     "metadata": {},
     "output_type": "execute_result"
    }
   ],
   "source": [
    "mse = mean_squared_error(y_test, y_test_pred)\n",
    "sqrt(mse)"
   ]
  },
  {
   "cell_type": "code",
   "execution_count": 64,
   "metadata": {},
   "outputs": [
    {
     "data": {
      "text/plain": [
       "Ridge(alpha=100, copy_X=True, fit_intercept=True, max_iter=None,\n",
       "   normalize=False, random_state=42, solver='auto', tol=0.001)"
      ]
     },
     "execution_count": 64,
     "metadata": {},
     "output_type": "execute_result"
    }
   ],
   "source": [
    "clf.best_estimator_"
   ]
  },
  {
   "cell_type": "code",
   "execution_count": 98,
   "metadata": {},
   "outputs": [
    {
     "data": {
      "text/plain": [
       "<matplotlib.collections.PathCollection at 0x10e8ad048>"
      ]
     },
     "execution_count": 98,
     "metadata": {},
     "output_type": "execute_result"
    },
    {
     "data": {
      "image/png": "[encoded data removed]",
      "text/plain": [
       "<Figure size 432x288 with 1 Axes>"
      ]
     },
     "metadata": {},
     "output_type": "display_data"
    }
   ],
   "source": [
    "plt.scatter(y_test, y_test_pred)"
   ]
  },
  {
   "cell_type": "code",
   "execution_count": 74,
   "metadata": {},
   "outputs": [
    {
     "name": "stdout",
     "output_type": "stream",
     "text": [
      "Ridge(alpha=100, copy_X=True, fit_intercept=True, max_iter=None,\n",
      "   normalize=False, random_state=42, solver='auto', tol=0.001)\n",
      "fit_time : 0.02 +/- 0.00\n",
      "score_time : 0.00 +/- 0.00\n",
      "test_score : -1354644906.00 +/- 713770211.47\n",
      "train_score : -219848276.68 +/- 6110185.84\n",
      "Lasso(alpha=1000, copy_X=True, fit_intercept=True, max_iter=1000,\n",
      "   normalize=False, positive=False, precompute=False, random_state=42,\n",
      "   selection='cyclic', tol=0.0001, warm_start=False)\n",
      "fit_time : 0.02 +/- 0.01\n",
      "score_time : 0.00 +/- 0.00\n",
      "test_score : -1269186256.26 +/- 894450161.36\n",
      "train_score : -355650029.71 +/- 4793514.48\n"
     ]
    }
   ],
   "source": [
    "#ensemble lasso and ridge\n",
    "from sklearn.model_selection import cross_validate\n",
    "from sklearn.metrics import mean_squared_error\n",
    "from sklearn.linear_model import Lasso\n",
    "rg = Ridge(random_state=42,alpha=100)\n",
    "ls = Lasso(random_state=42,alpha=1000)\n",
    "regresers= [rg,ls]\n",
    "\n",
    "for regreser in regresers:\n",
    "    \n",
    "    scores = cross_validate(regreser,X_train_sc,y_train,\n",
    "                            scoring='neg_mean_squared_error',cv=5,return_train_score=True)\n",
    "    print(regreser)\n",
    "    for k,v in scores.items():\n",
    "        print(k+\" : %0.2f +/- %0.2f\" % (v.mean(), v.std()))"
   ]
  },
  {
   "cell_type": "code",
   "execution_count": 76,
   "metadata": {},
   "outputs": [],
   "source": [
    "from sklearn.ensemble import BaggingRegressor\n",
    "bagged_config = dict(n_estimators=20, max_samples=.6, max_features=.7, random_state=42)\n",
    "bagging_rg = BaggingRegressor(Ridge(alpha=100), **bagged_config)\n",
    "bagging_ls = BaggingRegressor(Lasso(alpha=1000), **bagged_config)"
   ]
  },
  {
   "cell_type": "code",
   "execution_count": 77,
   "metadata": {},
   "outputs": [
    {
     "name": "stdout",
     "output_type": "stream",
     "text": [
      "BaggingRegressor(base_estimator=Ridge(alpha=100, copy_X=True, fit_intercept=True, max_iter=None,\n",
      "   normalize=False, random_state=None, solver='auto', tol=0.001),\n",
      "         bootstrap=True, bootstrap_features=False, max_features=0.7,\n",
      "         max_samples=0.6, n_estimators=20, n_jobs=None, oob_score=False,\n",
      "         random_state=42, verbose=0, warm_start=False)\n",
      "fit_time : 0.16 +/- 0.01\n",
      "score_time : 0.00 +/- 0.00\n",
      "test_score : -1332284719.05 +/- 700794400.09\n",
      "train_score : -668039547.95 +/- 71215202.36\n",
      "BaggingRegressor(base_estimator=Lasso(alpha=1000, copy_X=True, fit_intercept=True, max_iter=1000,\n",
      "   normalize=False, positive=False, precompute=False, random_state=None,\n",
      "   selection='cyclic', tol=0.0001, warm_start=False),\n",
      "         bootstrap=True, bootstrap_features=False, max_features=0.7,\n",
      "         max_samples=0.6, n_estimators=20, n_jobs=None, oob_score=False,\n",
      "         random_state=42, verbose=0, warm_start=False)\n",
      "fit_time : 0.29 +/- 0.04\n",
      "score_time : 0.00 +/- 0.00\n",
      "test_score : -1373306492.90 +/- 865519408.52\n",
      "train_score : -701705217.53 +/- 84580216.40\n"
     ]
    }
   ],
   "source": [
    "regresers= [bagging_rg,bagging_ls]\n",
    "\n",
    "for regreser in regresers:\n",
    "    \n",
    "    scores = cross_validate(regreser,X_train_sc,y_train,\n",
    "                            scoring='neg_mean_squared_error',cv=5,return_train_score=True)\n",
    "    print(regreser)\n",
    "    for k,v in scores.items():\n",
    "        print(k+\" : %0.2f +/- %0.2f\" % (v.mean(), v.std()))"
   ]
  },
  {
   "cell_type": "code",
   "execution_count": 97,
   "metadata": {},
   "outputs": [
    {
     "data": {
      "text/plain": [
       "37058.150154907366"
      ]
     },
     "execution_count": 97,
     "metadata": {},
     "output_type": "execute_result"
    }
   ],
   "source": [
    "from math import sqrt\n",
    "test_score = -scores['test_score'].mean()\n",
    "sqrt(test_score)"
   ]
  },
  {
   "cell_type": "code",
   "execution_count": null,
   "metadata": {},
   "outputs": [],
   "source": []
  }
 ],
 "metadata": {
  "kernelspec": {
   "display_name": "Python 3",
   "language": "python",
   "name": "python3"
  },
  "language_info": {
   "codemirror_mode": {
    "name": "ipython",
    "version": 3
   },
   "file_extension": ".py",
   "mimetype": "text/x-python",
   "name": "python",
   "nbconvert_exporter": "python",
   "pygments_lexer": "ipython3",
   "version": "3.6.8"
  }
 },
 "nbformat": 4,
 "nbformat_minor": 2
}
